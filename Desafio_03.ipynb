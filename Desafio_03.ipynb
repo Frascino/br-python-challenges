{
  "nbformat": 4,
  "nbformat_minor": 0,
  "metadata": {
    "anaconda-cloud": {},
    "kernelspec": {
      "display_name": "Python 3",
      "language": "python",
      "name": "python3"
    },
    "language_info": {
      "codemirror_mode": {
        "name": "ipython",
        "version": 3
      },
      "file_extension": ".py",
      "mimetype": "text/x-python",
      "name": "python",
      "nbconvert_exporter": "python",
      "pygments_lexer": "ipython3",
      "version": "3.6.5"
    },
    "colab": {
      "name": "Desafio 3.ipynb",
      "provenance": [],
      "include_colab_link": true
    }
  },
  "cells": [
    {
      "cell_type": "markdown",
      "metadata": {
        "id": "view-in-github",
        "colab_type": "text"
      },
      "source": [
        "<a href=\"https://colab.research.google.com/github/Frascino/br-python-challenges/blob/master/Desafio_03.ipynb\" target=\"_parent\"><img src=\"https://colab.research.google.com/assets/colab-badge.svg\" alt=\"Open In Colab\"/></a>"
      ]
    },
    {
      "cell_type": "markdown",
      "metadata": {
        "id": "9apVxxygf6JR",
        "colab_type": "text"
      },
      "source": [
        "### Desafio 3\n",
        "\n",
        "Escreva uma função que receba uma lista e retorne uma nova lista ordenada e sem valores duplicados.\n"
      ]
    },
    {
      "cell_type": "code",
      "metadata": {
        "id": "ndTkQEUBf6JS",
        "colab_type": "code",
        "colab": {}
      },
      "source": [
        "lista = [1,2,3,4,3,30,3,4,5,6,9,3,2,1,2,4,5,15,6,6,3,13,4,45,5]\n",
        "\n",
        "# Seu código"
      ],
      "execution_count": null,
      "outputs": []
    },
    {
      "cell_type": "code",
      "metadata": {
        "id": "wo2rA-NriFtO",
        "colab_type": "code",
        "colab": {
          "base_uri": "https://localhost:8080/",
          "height": 34
        },
        "outputId": "486ca1fe-f744-4879-b652-866a8a020a15"
      },
      "source": [
        "import numpy as np\n",
        "lista = [1,2,3,4,3,30,3,4,5,6,9,3,2,1,2,4,5,15,6,6,3,13,4,45,5]\n",
        "print(np.unique(lista))"
      ],
      "execution_count": 2,
      "outputs": [
        {
          "output_type": "stream",
          "text": [
            "[ 1  2  3  4  5  6  9 13 15 30 45]\n"
          ],
          "name": "stdout"
        }
      ]
    },
    {
      "cell_type": "code",
      "metadata": {
        "id": "7yqVCMcfJXXi",
        "colab_type": "code",
        "colab": {
          "base_uri": "https://localhost:8080/",
          "height": 34
        },
        "outputId": "5dc1d1b4-0d2b-45c5-8aed-780edbdf94b8"
      },
      "source": [
        "print(-np.sort(-np.unique(lista)))"
      ],
      "execution_count": 3,
      "outputs": [
        {
          "output_type": "stream",
          "text": [
            "[45 30 15 13  9  6  5  4  3  2  1]\n"
          ],
          "name": "stdout"
        }
      ]
    }
  ]
}